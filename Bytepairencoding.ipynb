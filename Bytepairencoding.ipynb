{
  "nbformat": 4,
  "nbformat_minor": 0,
  "metadata": {
    "colab": {
      "provenance": [],
      "authorship_tag": "ABX9TyOiQOt5VKx55ZfRI+gLM6Ji",
      "include_colab_link": true
    },
    "kernelspec": {
      "name": "python3",
      "display_name": "Python 3"
    },
    "language_info": {
      "name": "python"
    }
  },
  "cells": [
    {
      "cell_type": "markdown",
      "metadata": {
        "id": "view-in-github",
        "colab_type": "text"
      },
      "source": [
        "<a href=\"https://colab.research.google.com/github/nag07799/LLM_Journey/blob/main/Bytepairencoding.ipynb\" target=\"_parent\"><img src=\"https://colab.research.google.com/assets/colab-badge.svg\" alt=\"Open In Colab\"/></a>"
      ]
    },
    {
      "cell_type": "code",
      "execution_count": 1,
      "metadata": {
        "colab": {
          "base_uri": "https://localhost:8080/"
        },
        "id": "Bdzo-81i9h21",
        "outputId": "5b7cdac5-6ea7-4d47-dd90-2cbd79c3a32b"
      },
      "outputs": [
        {
          "output_type": "stream",
          "name": "stdout",
          "text": [
            "Step 1: Merged ('l', 'o') -> {'lo w </w>': 3, 'lo w e r </w>': 2, 'lo w e s t </w>': 1}\n",
            "Step 2: Merged ('lo', 'w') -> {'low </w>': 3, 'low e r </w>': 2, 'low e s t </w>': 1}\n",
            "Step 3: Merged ('low', '</w>') -> {'low</w>': 3, 'low e r </w>': 2, 'low e s t </w>': 1}\n",
            "Step 4: Merged ('low', 'e') -> {'low</w>': 3, 'lowe r </w>': 2, 'lowe s t </w>': 1}\n",
            "Step 5: Merged ('lowe', 'r') -> {'low</w>': 3, 'lower </w>': 2, 'lowe s t </w>': 1}\n",
            "Step 6: Merged ('lower', '</w>') -> {'low</w>': 3, 'lower</w>': 2, 'lowe s t </w>': 1}\n",
            "Step 7: Merged ('lowe', 's') -> {'low</w>': 3, 'lower</w>': 2, 'lowes t </w>': 1}\n",
            "Step 8: Merged ('lowes', 't') -> {'low</w>': 3, 'lower</w>': 2, 'lowest </w>': 1}\n",
            "Step 9: Merged ('lowest', '</w>') -> {'low</w>': 3, 'lower</w>': 2, 'lowest</w>': 1}\n",
            "\n",
            "Final Vocabulary:\n",
            "low</w>: 3\n",
            "lower</w>: 2\n",
            "lowest</w>: 1\n"
          ]
        }
      ],
      "source": [
        "import re\n",
        "from collections import defaultdict, Counter\n",
        "\n",
        "class BytePairEncoding:\n",
        "    def __init__(self, text):\n",
        "        self.text = text\n",
        "        self.vocab = self._get_vocabulary()\n",
        "\n",
        "    def _get_vocabulary(self):\n",
        "        \"\"\"Create the initial vocabulary from the input text.\"\"\"\n",
        "        vocabulary = defaultdict(int)\n",
        "        for word in self.text.split():\n",
        "            word = ' '.join(list(word)) + ' </w>'  # Appending </w> to mark end of word\n",
        "            vocabulary[word] += 1\n",
        "        return vocabulary\n",
        "\n",
        "    def _get_stats(self):\n",
        "        \"\"\"Get the frequency of pairs in the vocabulary.\"\"\"\n",
        "        pairs = defaultdict(int)\n",
        "        for word, freq in self.vocab.items():\n",
        "            symbols = word.split()\n",
        "            for i in range(len(symbols) - 1):\n",
        "                pairs[(symbols[i], symbols[i + 1])] += freq\n",
        "        return pairs\n",
        "\n",
        "    def _merge_vocab(self, pair):\n",
        "        \"\"\"Merge the most frequent pair in the vocabulary.\"\"\"\n",
        "        new_vocab = {}\n",
        "        bigram = re.escape(' '.join(pair))\n",
        "        pattern = re.compile(r'(?<!\\S)' + bigram + r'(?!\\S)')\n",
        "        for word in self.vocab:\n",
        "            new_word = pattern.sub(''.join(pair), word)\n",
        "            new_vocab[new_word] = self.vocab[word]\n",
        "        self.vocab = new_vocab\n",
        "\n",
        "    def apply_bpe(self, num_merges):\n",
        "        \"\"\"Apply Byte Pair Encoding for a specified number of merges.\"\"\"\n",
        "        for i in range(num_merges):\n",
        "            pairs = self._get_stats()\n",
        "            if not pairs:\n",
        "                break\n",
        "            best = max(pairs, key=pairs.get)\n",
        "            self._merge_vocab(best)\n",
        "            print(f\"Step {i + 1}: Merged {best} -> {self.vocab}\")\n",
        "        return self.vocab\n",
        "\n",
        "    def get_final_vocabulary(self):\n",
        "        \"\"\"Return the final vocabulary after BPE.\"\"\"\n",
        "        return self.vocab\n",
        "\n",
        "# Example usage\n",
        "text = \"low lower lowest low low lower\"\n",
        "num_merges = 10\n",
        "bpe = BytePairEncoding(text)\n",
        "final_vocab = bpe.apply_bpe(num_merges)\n",
        "\n",
        "print(\"\\nFinal Vocabulary:\")\n",
        "for word, freq in final_vocab.items():\n",
        "    print(f\"{word}: {freq}\")\n"
      ]
    }
  ]
}